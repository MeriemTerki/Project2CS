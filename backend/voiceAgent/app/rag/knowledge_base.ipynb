{
 "cells": [
  {
   "cell_type": "code",
   "execution_count": 1,
   "id": "2c06e180",
   "metadata": {},
   "outputs": [
    {
     "name": "stderr",
     "output_type": "stream",
     "text": [
      "\n",
      "[notice] A new release of pip available: 22.3 -> 25.0.1\n",
      "[notice] To update, run: C:\\Users\\mrmte\\AppData\\Local\\Programs\\Python\\Python311\\python.exe -m pip install --upgrade pip\n"
     ]
    }
   ],
   "source": [
    "\n",
    "\n",
    "! pip install -qU pinecone-client langchain_community cohere PyMuPDF"
   ]
  },
  {
   "cell_type": "code",
   "execution_count": 5,
   "id": "daed21b0",
   "metadata": {},
   "outputs": [
    {
     "name": "stderr",
     "output_type": "stream",
     "text": [
      "WARNING: Skipping pypdf as it is not installed.\n",
      "WARNING: Skipping PyPDF2 as it is not installed.\n"
     ]
    },
    {
     "name": "stdout",
     "output_type": "stream",
     "text": [
      "Files removed: 0\n"
     ]
    },
    {
     "name": "stderr",
     "output_type": "stream",
     "text": [
      "WARNING: No matching packages\n"
     ]
    }
   ],
   "source": [
    "! pip uninstall pypdf PyPDF2 -y\n",
    "! pip cache purge"
   ]
  },
  {
   "cell_type": "code",
   "execution_count": 6,
   "id": "a6f93d55",
   "metadata": {},
   "outputs": [
    {
     "name": "stdout",
     "output_type": "stream",
     "text": [
      "Collecting PyPDF2\n",
      "  Using cached pypdf2-3.0.1-py3-none-any.whl.metadata (6.8 kB)\n",
      "Using cached pypdf2-3.0.1-py3-none-any.whl (232 kB)\n",
      "Installing collected packages: PyPDF2\n",
      "  Attempting uninstall: PyPDF2\n",
      "    Found existing installation: PyPDF2 3.0.1\n",
      "    Uninstalling PyPDF2-3.0.1:\n",
      "      Successfully uninstalled PyPDF2-3.0.1\n",
      "Successfully installed PyPDF2-3.0.1\n"
     ]
    },
    {
     "name": "stderr",
     "output_type": "stream",
     "text": [
      "WARNING: Ignoring invalid distribution -atplotlib (c:\\users\\mrmte\\appdata\\local\\programs\\python\\python310\\lib\\site-packages)\n",
      "WARNING: Ignoring invalid distribution -atplotlib (c:\\users\\mrmte\\appdata\\local\\programs\\python\\python310\\lib\\site-packages)\n",
      "WARNING: Ignoring invalid distribution -atplotlib (c:\\users\\mrmte\\appdata\\local\\programs\\python\\python310\\lib\\site-packages)\n",
      "\n",
      "[notice] A new release of pip is available: 24.3.1 -> 25.0.1\n",
      "[notice] To update, run: python.exe -m pip install --upgrade pip\n"
     ]
    }
   ],
   "source": [
    "import sys\n",
    "!{sys.executable} -m pip install PyPDF2 --upgrade --force-reinstall"
   ]
  },
  {
   "cell_type": "code",
   "execution_count": 7,
   "id": "4c6ba694",
   "metadata": {},
   "outputs": [
    {
     "name": "stdout",
     "output_type": "stream",
     "text": [
      "Name: PyPDF2\n",
      "Version: 3.0.1\n",
      "Summary: A pure-python PDF library capable of splitting, merging, cropping, and transforming PDF files\n",
      "Home-page: \n",
      "Author: \n",
      "Author-email: Mathieu Fenniak <biziqe@mathieu.fenniak.net>\n",
      "License: \n",
      "Location: c:\\users\\mrmte\\appdata\\local\\programs\\python\\python310\\lib\\site-packages\n",
      "Requires: \n",
      "Required-by: \n"
     ]
    },
    {
     "name": "stderr",
     "output_type": "stream",
     "text": [
      "WARNING: Ignoring invalid distribution -atplotlib (c:\\users\\mrmte\\appdata\\local\\programs\\python\\python310\\lib\\site-packages)\n"
     ]
    }
   ],
   "source": [
    "!{sys.executable} -m pip show PyPDF2"
   ]
  },
  {
   "cell_type": "code",
   "execution_count": 8,
   "id": "0a28bc7e",
   "metadata": {},
   "outputs": [
    {
     "data": {
      "application/javascript": "IPython.notebook.kernel.restart()",
      "text/plain": [
       "<IPython.core.display.Javascript object>"
      ]
     },
     "metadata": {},
     "output_type": "display_data"
    }
   ],
   "source": [
    "from IPython.display import display, Javascript\n",
    "display(Javascript('IPython.notebook.kernel.restart()'))"
   ]
  },
  {
   "cell_type": "code",
   "execution_count": 9,
   "id": "849b98c5",
   "metadata": {},
   "outputs": [
    {
     "name": "stdout",
     "output_type": "stream",
     "text": [
      "Success! PDF reader imported correctly\n"
     ]
    }
   ],
   "source": [
    "from PyPDF2 import PdfReader\n",
    "print(\"Success! PDF reader imported correctly\")"
   ]
  },
  {
   "cell_type": "code",
   "execution_count": 10,
   "id": "7a9aac03",
   "metadata": {},
   "outputs": [
    {
     "name": "stdout",
     "output_type": "stream",
     "text": [
      "Test PDF has 1 pages\n"
     ]
    }
   ],
   "source": [
    "from PyPDF2 import PdfReader\n",
    "from io import BytesIO\n",
    "import requests\n",
    "\n",
    "# Test with a sample PDF\n",
    "pdf_url = \"https://www.w3.org/WAI/ER/tests/xhtml/testfiles/resources/pdf/dummy.pdf\"\n",
    "pdf_content = requests.get(pdf_url).content\n",
    "\n",
    "# Read the PDF\n",
    "reader = PdfReader(BytesIO(pdf_content))\n",
    "print(f\"Test PDF has {len(reader.pages)} pages\")"
   ]
  },
  {
   "cell_type": "code",
   "execution_count": 11,
   "id": "0fd74960",
   "metadata": {},
   "outputs": [],
   "source": [
    "\n",
    "import cohere\n",
    "from PyPDF2 import PdfReader\n",
    "from langchain.text_splitter import RecursiveCharacterTextSplitter, CharacterTextSplitter\n",
    "from pinecone import Pinecone, ServerlessSpec\n",
    "import os\n",
    "import getpass\n",
    "from langchain.schema import Document\n",
    "from langchain.embeddings import CohereEmbeddings\n",
    "from langchain_community.vectorstores import Pinecone as Pinecone_Langchain"
   ]
  },
  {
   "cell_type": "code",
   "execution_count": 12,
   "id": "6c0a0966",
   "metadata": {},
   "outputs": [],
   "source": [
    "\n",
    "index = 'voice-agent'\n",
    "os.environ['PINECONE_API_KEY'] = pinecone_secret_key = getpass.getpass('Enter Pinecone secret key:')\n",
    "cohere_secret_key = getpass.getpass('Enter Cohere secret key:')"
   ]
  },
  {
   "cell_type": "code",
   "execution_count": 13,
   "id": "1fedbb55",
   "metadata": {},
   "outputs": [
    {
     "data": {
      "text/plain": [
       "{'deletion_protection': 'disabled',\n",
       " 'dimension': 1024,\n",
       " 'host': 'voice-agent-i4yi6bh.svc.aped-4627-b74a.pinecone.io',\n",
       " 'metric': 'cosine',\n",
       " 'name': 'voice-agent',\n",
       " 'spec': {'serverless': {'cloud': 'aws', 'region': 'us-east-1'}},\n",
       " 'status': {'ready': True, 'state': 'Ready'}}"
      ]
     },
     "execution_count": 13,
     "metadata": {},
     "output_type": "execute_result"
    }
   ],
   "source": [
    "pc = Pinecone(api_key=pinecone_secret_key)\n",
    "if index not in pc.list_indexes().names():\n",
    "  pc.create_index(\n",
    "    name = index,\n",
    "    dimension = 1024,\n",
    "    metric = 'cosine',\n",
    "    spec=ServerlessSpec(\n",
    "      cloud=\"aws\",\n",
    "      region=\"us-east-1\"\n",
    "      )\n",
    "  )\n",
    "pc.describe_index(index)"
   ]
  },
  {
   "cell_type": "code",
   "execution_count": 14,
   "id": "e28291dc",
   "metadata": {},
   "outputs": [],
   "source": [
    "# Each document will have a size of 700 or less\n",
    "character_text_splitter = CharacterTextSplitter(\n",
    "    chunk_size = 700,\n",
    "    chunk_overlap  = 200,\n",
    "    length_function = len,\n",
    "    is_separator_regex=False,\n",
    ")\n",
    "recursive_text_splitter = RecursiveCharacterTextSplitter(\n",
    "    chunk_size = 700,\n",
    "    chunk_overlap  = 200,\n",
    "    length_function = len,\n",
    "    is_separator_regex=False,\n",
    ")"
   ]
  },
  {
   "cell_type": "markdown",
   "id": "64a078fa",
   "metadata": {},
   "source": [
    "### PDFs"
   ]
  },
  {
   "cell_type": "code",
   "execution_count": 15,
   "id": "407668f0",
   "metadata": {},
   "outputs": [
    {
     "name": "stdout",
     "output_type": "stream",
     "text": [
      "Requirement already satisfied: PyMuPDF in c:\\users\\mrmte\\appdata\\local\\programs\\python\\python311\\lib\\site-packages (1.25.5)\n"
     ]
    },
    {
     "name": "stderr",
     "output_type": "stream",
     "text": [
      "\n",
      "[notice] A new release of pip available: 22.3 -> 25.0.1\n",
      "[notice] To update, run: C:\\Users\\mrmte\\AppData\\Local\\Programs\\Python\\Python311\\python.exe -m pip install --upgrade pip\n"
     ]
    }
   ],
   "source": [
    "! pip install PyMuPDF"
   ]
  },
  {
   "cell_type": "code",
   "execution_count": 16,
   "id": "43dbb8c3",
   "metadata": {},
   "outputs": [
    {
     "name": "stdout",
     "output_type": "stream",
     "text": [
      "Name: PyMuPDF\n",
      "Version: 1.25.5\n",
      "Summary: A high performance Python library for data extraction, analysis, conversion & manipulation of PDF (and other) documents.\n",
      "Home-page: \n",
      "Author: Artifex\n",
      "Author-email: support@artifex.com\n",
      "License: Dual Licensed - GNU AFFERO GPL 3.0 or Artifex Commercial License\n",
      "Location: C:\\Users\\mrmte\\AppData\\Local\\Programs\\Python\\Python311\\Lib\\site-packages\n",
      "Requires: \n",
      "Required-by: \n"
     ]
    }
   ],
   "source": [
    "! pip show pymupdf"
   ]
  },
  {
   "cell_type": "code",
   "execution_count": 17,
   "id": "34989e65",
   "metadata": {},
   "outputs": [
    {
     "name": "stdout",
     "output_type": "stream",
     "text": [
      "Requirement already satisfied: pymupdf in c:\\users\\mrmte\\appdata\\local\\programs\\python\\python310\\lib\\site-packages (1.25.5)\n"
     ]
    },
    {
     "name": "stderr",
     "output_type": "stream",
     "text": [
      "WARNING: Ignoring invalid distribution -atplotlib (c:\\users\\mrmte\\appdata\\local\\programs\\python\\python310\\lib\\site-packages)\n",
      "WARNING: Ignoring invalid distribution -atplotlib (c:\\users\\mrmte\\appdata\\local\\programs\\python\\python310\\lib\\site-packages)\n",
      "WARNING: Ignoring invalid distribution -atplotlib (c:\\users\\mrmte\\appdata\\local\\programs\\python\\python310\\lib\\site-packages)\n",
      "\n",
      "[notice] A new release of pip is available: 24.3.1 -> 25.0.1\n",
      "[notice] To update, run: python.exe -m pip install --upgrade pip\n"
     ]
    }
   ],
   "source": [
    "import sys\n",
    "!{sys.executable} -m pip install --upgrade pymupdf"
   ]
  },
  {
   "cell_type": "code",
   "execution_count": 18,
   "id": "bc38362e",
   "metadata": {},
   "outputs": [
    {
     "data": {
      "application/javascript": "IPython.notebook.kernel.restart()",
      "text/plain": [
       "<IPython.core.display.Javascript object>"
      ]
     },
     "metadata": {},
     "output_type": "display_data"
    }
   ],
   "source": [
    "from IPython.display import display, Javascript\n",
    "display(Javascript('IPython.notebook.kernel.restart()'))"
   ]
  },
  {
   "cell_type": "code",
   "execution_count": 19,
   "id": "47f56e87",
   "metadata": {},
   "outputs": [
    {
     "name": "stdout",
     "output_type": "stream",
     "text": [
      "Success! Fitz imported as 1.25.5\n"
     ]
    }
   ],
   "source": [
    "try:\n",
    "    import fitz\n",
    "    print(\"Success! Fitz imported as\", fitz.__version__)\n",
    "except ImportError:\n",
    "    print(\"Still not working - trying alternative approach...\")\n",
    "    import pymupdf as fitz\n",
    "    print(\"Success! pymupdf imported as\", fitz.__version__)"
   ]
  },
  {
   "cell_type": "code",
   "execution_count": 20,
   "id": "f19d154a",
   "metadata": {},
   "outputs": [
    {
     "name": "stderr",
     "output_type": "stream",
     "text": [
      "\n",
      "[notice] A new release of pip available: 22.3 -> 25.0.1\n",
      "[notice] To update, run: C:\\Users\\mrmte\\AppData\\Local\\Programs\\Python\\Python311\\python.exe -m pip install --upgrade pip\n"
     ]
    }
   ],
   "source": [
    "! pip install langchain-cohere langchain-community pymupdf pinecone-client --quiet"
   ]
  },
  {
   "cell_type": "code",
   "execution_count": 21,
   "id": "39ae3351",
   "metadata": {},
   "outputs": [
    {
     "name": "stdout",
     "output_type": "stream",
     "text": [
      "Requirement already satisfied: langchain-cohere in c:\\users\\mrmte\\appdata\\local\\programs\\python\\python311\\lib\\site-packages (0.4.4)\n",
      "Requirement already satisfied: cohere<6.0,>=5.12.0 in c:\\users\\mrmte\\appdata\\local\\programs\\python\\python311\\lib\\site-packages (from langchain-cohere) (5.14.2)\n",
      "Requirement already satisfied: langchain-community<0.4.0,>=0.3.0 in c:\\users\\mrmte\\appdata\\local\\programs\\python\\python311\\lib\\site-packages (from langchain-cohere) (0.3.21)\n",
      "Requirement already satisfied: langchain-core<0.4.0,>=0.3.27 in c:\\users\\mrmte\\appdata\\local\\programs\\python\\python311\\lib\\site-packages (from langchain-cohere) (0.3.51)\n",
      "Requirement already satisfied: pydantic<3,>=2 in c:\\users\\mrmte\\appdata\\local\\programs\\python\\python311\\lib\\site-packages (from langchain-cohere) (2.11.3)\n",
      "Requirement already satisfied: types-pyyaml<7.0.0.0,>=6.0.12.20240917 in c:\\users\\mrmte\\appdata\\local\\programs\\python\\python311\\lib\\site-packages (from langchain-cohere) (6.0.12.20250402)\n",
      "Requirement already satisfied: fastavro<2.0.0,>=1.9.4 in c:\\users\\mrmte\\appdata\\local\\programs\\python\\python311\\lib\\site-packages (from cohere<6.0,>=5.12.0->langchain-cohere) (1.10.0)\n",
      "Requirement already satisfied: httpx>=0.21.2 in c:\\users\\mrmte\\appdata\\local\\programs\\python\\python311\\lib\\site-packages (from cohere<6.0,>=5.12.0->langchain-cohere) (0.28.1)\n",
      "Requirement already satisfied: httpx-sse==0.4.0 in c:\\users\\mrmte\\appdata\\local\\programs\\python\\python311\\lib\\site-packages (from cohere<6.0,>=5.12.0->langchain-cohere) (0.4.0)\n",
      "Requirement already satisfied: pydantic-core<3.0.0,>=2.18.2 in c:\\users\\mrmte\\appdata\\local\\programs\\python\\python311\\lib\\site-packages (from cohere<6.0,>=5.12.0->langchain-cohere) (2.33.1)\n",
      "Requirement already satisfied: requests<3.0.0,>=2.0.0 in c:\\users\\mrmte\\appdata\\local\\programs\\python\\python311\\lib\\site-packages (from cohere<6.0,>=5.12.0->langchain-cohere) (2.32.3)\n",
      "Requirement already satisfied: tokenizers<1,>=0.15 in c:\\users\\mrmte\\appdata\\local\\programs\\python\\python311\\lib\\site-packages (from cohere<6.0,>=5.12.0->langchain-cohere) (0.21.1)\n",
      "Requirement already satisfied: types-requests<3.0.0,>=2.0.0 in c:\\users\\mrmte\\appdata\\local\\programs\\python\\python311\\lib\\site-packages (from cohere<6.0,>=5.12.0->langchain-cohere) (2.32.0.20250328)\n",
      "Requirement already satisfied: typing_extensions>=4.0.0 in c:\\users\\mrmte\\appdata\\local\\programs\\python\\python311\\lib\\site-packages (from cohere<6.0,>=5.12.0->langchain-cohere) (4.13.1)\n",
      "Requirement already satisfied: langchain<1.0.0,>=0.3.23 in c:\\users\\mrmte\\appdata\\local\\programs\\python\\python311\\lib\\site-packages (from langchain-community<0.4.0,>=0.3.0->langchain-cohere) (0.3.23)\n",
      "Requirement already satisfied: SQLAlchemy<3,>=1.4 in c:\\users\\mrmte\\appdata\\local\\programs\\python\\python311\\lib\\site-packages (from langchain-community<0.4.0,>=0.3.0->langchain-cohere) (2.0.40)\n",
      "Requirement already satisfied: PyYAML>=5.3 in c:\\users\\mrmte\\appdata\\local\\programs\\python\\python311\\lib\\site-packages (from langchain-community<0.4.0,>=0.3.0->langchain-cohere) (6.0.2)\n",
      "Requirement already satisfied: aiohttp<4.0.0,>=3.8.3 in c:\\users\\mrmte\\appdata\\local\\programs\\python\\python311\\lib\\site-packages (from langchain-community<0.4.0,>=0.3.0->langchain-cohere) (3.11.16)\n",
      "Requirement already satisfied: tenacity!=8.4.0,<10,>=8.1.0 in c:\\users\\mrmte\\appdata\\local\\programs\\python\\python311\\lib\\site-packages (from langchain-community<0.4.0,>=0.3.0->langchain-cohere) (9.1.2)\n",
      "Requirement already satisfied: dataclasses-json<0.7,>=0.5.7 in c:\\users\\mrmte\\appdata\\local\\programs\\python\\python311\\lib\\site-packages (from langchain-community<0.4.0,>=0.3.0->langchain-cohere) (0.6.7)\n",
      "Requirement already satisfied: pydantic-settings<3.0.0,>=2.4.0 in c:\\users\\mrmte\\appdata\\local\\programs\\python\\python311\\lib\\site-packages (from langchain-community<0.4.0,>=0.3.0->langchain-cohere) (2.8.1)\n",
      "Requirement already satisfied: langsmith<0.4,>=0.1.125 in c:\\users\\mrmte\\appdata\\local\\programs\\python\\python311\\lib\\site-packages (from langchain-community<0.4.0,>=0.3.0->langchain-cohere) (0.3.30)\n",
      "Requirement already satisfied: numpy<3,>=1.26.2 in c:\\users\\mrmte\\appdata\\local\\programs\\python\\python311\\lib\\site-packages (from langchain-community<0.4.0,>=0.3.0->langchain-cohere) (1.26.4)\n",
      "Requirement already satisfied: jsonpatch<2.0,>=1.33 in c:\\users\\mrmte\\appdata\\local\\programs\\python\\python311\\lib\\site-packages (from langchain-core<0.4.0,>=0.3.27->langchain-cohere) (1.33)\n",
      "Requirement already satisfied: packaging<25,>=23.2 in c:\\users\\mrmte\\appdata\\local\\programs\\python\\python311\\lib\\site-packages (from langchain-core<0.4.0,>=0.3.27->langchain-cohere) (24.2)\n",
      "Requirement already satisfied: annotated-types>=0.6.0 in c:\\users\\mrmte\\appdata\\local\\programs\\python\\python311\\lib\\site-packages (from pydantic<3,>=2->langchain-cohere) (0.7.0)\n",
      "Requirement already satisfied: typing-inspection>=0.4.0 in c:\\users\\mrmte\\appdata\\local\\programs\\python\\python311\\lib\\site-packages (from pydantic<3,>=2->langchain-cohere) (0.4.0)\n",
      "Requirement already satisfied: aiohappyeyeballs>=2.3.0 in c:\\users\\mrmte\\appdata\\local\\programs\\python\\python311\\lib\\site-packages (from aiohttp<4.0.0,>=3.8.3->langchain-community<0.4.0,>=0.3.0->langchain-cohere) (2.6.1)\n",
      "Requirement already satisfied: aiosignal>=1.1.2 in c:\\users\\mrmte\\appdata\\local\\programs\\python\\python311\\lib\\site-packages (from aiohttp<4.0.0,>=3.8.3->langchain-community<0.4.0,>=0.3.0->langchain-cohere) (1.3.2)\n",
      "Requirement already satisfied: attrs>=17.3.0 in c:\\users\\mrmte\\appdata\\local\\programs\\python\\python311\\lib\\site-packages (from aiohttp<4.0.0,>=3.8.3->langchain-community<0.4.0,>=0.3.0->langchain-cohere) (25.3.0)\n",
      "Requirement already satisfied: frozenlist>=1.1.1 in c:\\users\\mrmte\\appdata\\local\\programs\\python\\python311\\lib\\site-packages (from aiohttp<4.0.0,>=3.8.3->langchain-community<0.4.0,>=0.3.0->langchain-cohere) (1.5.0)\n",
      "Requirement already satisfied: multidict<7.0,>=4.5 in c:\\users\\mrmte\\appdata\\local\\programs\\python\\python311\\lib\\site-packages (from aiohttp<4.0.0,>=3.8.3->langchain-community<0.4.0,>=0.3.0->langchain-cohere) (6.2.0)\n",
      "Requirement already satisfied: propcache>=0.2.0 in c:\\users\\mrmte\\appdata\\local\\programs\\python\\python311\\lib\\site-packages (from aiohttp<4.0.0,>=3.8.3->langchain-community<0.4.0,>=0.3.0->langchain-cohere) (0.3.1)\n",
      "Requirement already satisfied: yarl<2.0,>=1.17.0 in c:\\users\\mrmte\\appdata\\local\\programs\\python\\python311\\lib\\site-packages (from aiohttp<4.0.0,>=3.8.3->langchain-community<0.4.0,>=0.3.0->langchain-cohere) (1.19.0)\n",
      "Requirement already satisfied: marshmallow<4.0.0,>=3.18.0 in c:\\users\\mrmte\\appdata\\local\\programs\\python\\python311\\lib\\site-packages (from dataclasses-json<0.7,>=0.5.7->langchain-community<0.4.0,>=0.3.0->langchain-cohere) (3.26.1)\n",
      "Requirement already satisfied: typing-inspect<1,>=0.4.0 in c:\\users\\mrmte\\appdata\\local\\programs\\python\\python311\\lib\\site-packages (from dataclasses-json<0.7,>=0.5.7->langchain-community<0.4.0,>=0.3.0->langchain-cohere) (0.9.0)\n",
      "Requirement already satisfied: anyio in c:\\users\\mrmte\\appdata\\local\\programs\\python\\python311\\lib\\site-packages (from httpx>=0.21.2->cohere<6.0,>=5.12.0->langchain-cohere) (4.9.0)\n",
      "Requirement already satisfied: certifi in c:\\users\\mrmte\\appdata\\local\\programs\\python\\python311\\lib\\site-packages (from httpx>=0.21.2->cohere<6.0,>=5.12.0->langchain-cohere) (2025.1.31)\n",
      "Requirement already satisfied: httpcore==1.* in c:\\users\\mrmte\\appdata\\local\\programs\\python\\python311\\lib\\site-packages (from httpx>=0.21.2->cohere<6.0,>=5.12.0->langchain-cohere) (1.0.7)\n",
      "Requirement already satisfied: idna in c:\\users\\mrmte\\appdata\\local\\programs\\python\\python311\\lib\\site-packages (from httpx>=0.21.2->cohere<6.0,>=5.12.0->langchain-cohere) (3.10)\n",
      "Requirement already satisfied: h11<0.15,>=0.13 in c:\\users\\mrmte\\appdata\\local\\programs\\python\\python311\\lib\\site-packages (from httpcore==1.*->httpx>=0.21.2->cohere<6.0,>=5.12.0->langchain-cohere) (0.14.0)\n",
      "Requirement already satisfied: jsonpointer>=1.9 in c:\\users\\mrmte\\appdata\\local\\programs\\python\\python311\\lib\\site-packages (from jsonpatch<2.0,>=1.33->langchain-core<0.4.0,>=0.3.27->langchain-cohere) (3.0.0)\n",
      "Requirement already satisfied: langchain-text-splitters<1.0.0,>=0.3.8 in c:\\users\\mrmte\\appdata\\local\\programs\\python\\python311\\lib\\site-packages (from langchain<1.0.0,>=0.3.23->langchain-community<0.4.0,>=0.3.0->langchain-cohere) (0.3.8)\n",
      "Requirement already satisfied: orjson<4.0.0,>=3.9.14 in c:\\users\\mrmte\\appdata\\local\\programs\\python\\python311\\lib\\site-packages (from langsmith<0.4,>=0.1.125->langchain-community<0.4.0,>=0.3.0->langchain-cohere) (3.10.16)\n",
      "Requirement already satisfied: requests-toolbelt<2.0.0,>=1.0.0 in c:\\users\\mrmte\\appdata\\local\\programs\\python\\python311\\lib\\site-packages (from langsmith<0.4,>=0.1.125->langchain-community<0.4.0,>=0.3.0->langchain-cohere) (1.0.0)\n",
      "Requirement already satisfied: zstandard<0.24.0,>=0.23.0 in c:\\users\\mrmte\\appdata\\local\\programs\\python\\python311\\lib\\site-packages (from langsmith<0.4,>=0.1.125->langchain-community<0.4.0,>=0.3.0->langchain-cohere) (0.23.0)\n",
      "Requirement already satisfied: python-dotenv>=0.21.0 in c:\\users\\mrmte\\appdata\\local\\programs\\python\\python311\\lib\\site-packages (from pydantic-settings<3.0.0,>=2.4.0->langchain-community<0.4.0,>=0.3.0->langchain-cohere) (1.1.0)\n",
      "Requirement already satisfied: charset-normalizer<4,>=2 in c:\\users\\mrmte\\appdata\\local\\programs\\python\\python311\\lib\\site-packages (from requests<3.0.0,>=2.0.0->cohere<6.0,>=5.12.0->langchain-cohere) (3.4.1)\n",
      "Requirement already satisfied: urllib3<3,>=1.21.1 in c:\\users\\mrmte\\appdata\\local\\programs\\python\\python311\\lib\\site-packages (from requests<3.0.0,>=2.0.0->cohere<6.0,>=5.12.0->langchain-cohere) (2.3.0)\n",
      "Requirement already satisfied: greenlet>=1 in c:\\users\\mrmte\\appdata\\local\\programs\\python\\python311\\lib\\site-packages (from SQLAlchemy<3,>=1.4->langchain-community<0.4.0,>=0.3.0->langchain-cohere) (3.1.1)\n",
      "Requirement already satisfied: huggingface-hub<1.0,>=0.16.4 in c:\\users\\mrmte\\appdata\\local\\programs\\python\\python311\\lib\\site-packages (from tokenizers<1,>=0.15->cohere<6.0,>=5.12.0->langchain-cohere) (0.30.1)\n",
      "Requirement already satisfied: filelock in c:\\users\\mrmte\\appdata\\local\\programs\\python\\python311\\lib\\site-packages (from huggingface-hub<1.0,>=0.16.4->tokenizers<1,>=0.15->cohere<6.0,>=5.12.0->langchain-cohere) (3.18.0)\n",
      "Requirement already satisfied: fsspec>=2023.5.0 in c:\\users\\mrmte\\appdata\\local\\programs\\python\\python311\\lib\\site-packages (from huggingface-hub<1.0,>=0.16.4->tokenizers<1,>=0.15->cohere<6.0,>=5.12.0->langchain-cohere) (2025.3.2)\n",
      "Requirement already satisfied: tqdm>=4.42.1 in c:\\users\\mrmte\\appdata\\local\\programs\\python\\python311\\lib\\site-packages (from huggingface-hub<1.0,>=0.16.4->tokenizers<1,>=0.15->cohere<6.0,>=5.12.0->langchain-cohere) (4.67.1)\n",
      "Requirement already satisfied: mypy-extensions>=0.3.0 in c:\\users\\mrmte\\appdata\\local\\programs\\python\\python311\\lib\\site-packages (from typing-inspect<1,>=0.4.0->dataclasses-json<0.7,>=0.5.7->langchain-community<0.4.0,>=0.3.0->langchain-cohere) (1.0.0)\n",
      "Requirement already satisfied: sniffio>=1.1 in c:\\users\\mrmte\\appdata\\local\\programs\\python\\python311\\lib\\site-packages (from anyio->httpx>=0.21.2->cohere<6.0,>=5.12.0->langchain-cohere) (1.3.1)\n",
      "Requirement already satisfied: colorama in c:\\users\\mrmte\\appdata\\local\\programs\\python\\python311\\lib\\site-packages (from tqdm>=4.42.1->huggingface-hub<1.0,>=0.16.4->tokenizers<1,>=0.15->cohere<6.0,>=5.12.0->langchain-cohere) (0.4.6)\n"
     ]
    },
    {
     "name": "stderr",
     "output_type": "stream",
     "text": [
      "\n",
      "[notice] A new release of pip available: 22.3 -> 25.0.1\n",
      "[notice] To update, run: C:\\Users\\mrmte\\AppData\\Local\\Programs\\Python\\Python311\\python.exe -m pip install --upgrade pip\n"
     ]
    }
   ],
   "source": [
    "! pip install langchain-cohere\n"
   ]
  },
  {
   "cell_type": "code",
   "execution_count": 22,
   "id": "c5a59be7",
   "metadata": {},
   "outputs": [
    {
     "name": "stdout",
     "output_type": "stream",
     "text": [
      "Name: langchain-cohere\n",
      "Version: 0.4.4\n",
      "Summary: An integration package connecting Cohere and LangChain\n",
      "Home-page: https://github.com/langchain-ai/langchain-cohere\n",
      "Author: \n",
      "Author-email: \n",
      "License: MIT\n",
      "Location: C:\\Users\\mrmte\\AppData\\Local\\Programs\\Python\\Python311\\Lib\\site-packages\n",
      "Requires: cohere, langchain-community, langchain-core, pydantic, types-pyyaml\n",
      "Required-by: \n"
     ]
    }
   ],
   "source": [
    "! pip show langchain-cohere\n"
   ]
  },
  {
   "cell_type": "code",
   "execution_count": 23,
   "id": "fbce3421",
   "metadata": {},
   "outputs": [
    {
     "name": "stdout",
     "output_type": "stream",
     "text": [
      "c:\\Users\\mrmte\\AppData\\Local\\Programs\\Python\\Python310\\python.exe\n"
     ]
    }
   ],
   "source": [
    "import sys\n",
    "print(sys.executable)\n"
   ]
  },
  {
   "cell_type": "code",
   "execution_count": 24,
   "id": "27cdb94c",
   "metadata": {},
   "outputs": [
    {
     "name": "stdout",
     "output_type": "stream",
     "text": [
      "Requirement already satisfied: langchain-cohere in c:\\users\\mrmte\\appdata\\local\\programs\\python\\python310\\lib\\site-packages (0.4.4)\n",
      "Requirement already satisfied: cohere<6.0,>=5.12.0 in c:\\users\\mrmte\\appdata\\local\\programs\\python\\python310\\lib\\site-packages (from langchain-cohere) (5.14.2)\n",
      "Requirement already satisfied: langchain-community<0.4.0,>=0.3.0 in c:\\users\\mrmte\\appdata\\local\\programs\\python\\python310\\lib\\site-packages (from langchain-cohere) (0.3.2)\n",
      "Requirement already satisfied: langchain-core<0.4.0,>=0.3.27 in c:\\users\\mrmte\\appdata\\local\\programs\\python\\python310\\lib\\site-packages (from langchain-cohere) (0.3.51)\n",
      "Requirement already satisfied: pydantic<3,>=2 in c:\\users\\mrmte\\appdata\\local\\programs\\python\\python310\\lib\\site-packages (from langchain-cohere) (2.9.2)\n",
      "Requirement already satisfied: types-pyyaml<7.0.0.0,>=6.0.12.20240917 in c:\\users\\mrmte\\appdata\\local\\programs\\python\\python310\\lib\\site-packages (from langchain-cohere) (6.0.12.20241221)\n",
      "Requirement already satisfied: fastavro<2.0.0,>=1.9.4 in c:\\users\\mrmte\\appdata\\local\\programs\\python\\python310\\lib\\site-packages (from cohere<6.0,>=5.12.0->langchain-cohere) (1.9.7)\n",
      "Requirement already satisfied: httpx>=0.21.2 in c:\\users\\mrmte\\appdata\\local\\programs\\python\\python310\\lib\\site-packages (from cohere<6.0,>=5.12.0->langchain-cohere) (0.27.2)\n",
      "Requirement already satisfied: httpx-sse==0.4.0 in c:\\users\\mrmte\\appdata\\local\\programs\\python\\python310\\lib\\site-packages (from cohere<6.0,>=5.12.0->langchain-cohere) (0.4.0)\n",
      "Requirement already satisfied: pydantic-core<3.0.0,>=2.18.2 in c:\\users\\mrmte\\appdata\\local\\programs\\python\\python310\\lib\\site-packages (from cohere<6.0,>=5.12.0->langchain-cohere) (2.23.4)\n",
      "Requirement already satisfied: requests<3.0.0,>=2.0.0 in c:\\users\\mrmte\\appdata\\local\\programs\\python\\python310\\lib\\site-packages (from cohere<6.0,>=5.12.0->langchain-cohere) (2.32.3)\n",
      "Requirement already satisfied: tokenizers<1,>=0.15 in c:\\users\\mrmte\\appdata\\local\\programs\\python\\python310\\lib\\site-packages (from cohere<6.0,>=5.12.0->langchain-cohere) (0.20.1)\n",
      "Requirement already satisfied: types-requests<3.0.0,>=2.0.0 in c:\\users\\mrmte\\appdata\\local\\programs\\python\\python310\\lib\\site-packages (from cohere<6.0,>=5.12.0->langchain-cohere) (2.32.0.20241016)\n",
      "Requirement already satisfied: typing_extensions>=4.0.0 in c:\\users\\mrmte\\appdata\\roaming\\python\\python310\\site-packages (from cohere<6.0,>=5.12.0->langchain-cohere) (4.12.2)\n",
      "Requirement already satisfied: PyYAML>=5.3 in c:\\users\\mrmte\\appdata\\local\\programs\\python\\python310\\lib\\site-packages (from langchain-community<0.4.0,>=0.3.0->langchain-cohere) (6.0.2)\n",
      "Requirement already satisfied: SQLAlchemy<3,>=1.4 in c:\\users\\mrmte\\appdata\\local\\programs\\python\\python310\\lib\\site-packages (from langchain-community<0.4.0,>=0.3.0->langchain-cohere) (2.0.36)\n",
      "Requirement already satisfied: aiohttp<4.0.0,>=3.8.3 in c:\\users\\mrmte\\appdata\\local\\programs\\python\\python310\\lib\\site-packages (from langchain-community<0.4.0,>=0.3.0->langchain-cohere) (3.10.10)\n",
      "Requirement already satisfied: dataclasses-json<0.7,>=0.5.7 in c:\\users\\mrmte\\appdata\\local\\programs\\python\\python310\\lib\\site-packages (from langchain-community<0.4.0,>=0.3.0->langchain-cohere) (0.6.7)\n",
      "Requirement already satisfied: langchain<0.4.0,>=0.3.3 in c:\\users\\mrmte\\appdata\\local\\programs\\python\\python310\\lib\\site-packages (from langchain-community<0.4.0,>=0.3.0->langchain-cohere) (0.3.3)\n",
      "Requirement already satisfied: langsmith<0.2.0,>=0.1.125 in c:\\users\\mrmte\\appdata\\local\\programs\\python\\python310\\lib\\site-packages (from langchain-community<0.4.0,>=0.3.0->langchain-cohere) (0.1.135)\n",
      "Requirement already satisfied: numpy<2,>=1 in c:\\users\\mrmte\\appdata\\local\\programs\\python\\python310\\lib\\site-packages (from langchain-community<0.4.0,>=0.3.0->langchain-cohere) (1.26.4)\n",
      "Requirement already satisfied: pydantic-settings<3.0.0,>=2.4.0 in c:\\users\\mrmte\\appdata\\local\\programs\\python\\python310\\lib\\site-packages (from langchain-community<0.4.0,>=0.3.0->langchain-cohere) (2.5.2)\n",
      "Requirement already satisfied: tenacity!=8.4.0,<9.0.0,>=8.1.0 in c:\\users\\mrmte\\appdata\\local\\programs\\python\\python310\\lib\\site-packages (from langchain-community<0.4.0,>=0.3.0->langchain-cohere) (8.5.0)\n",
      "Requirement already satisfied: jsonpatch<2.0,>=1.33 in c:\\users\\mrmte\\appdata\\local\\programs\\python\\python310\\lib\\site-packages (from langchain-core<0.4.0,>=0.3.27->langchain-cohere) (1.33)\n",
      "Requirement already satisfied: packaging<25,>=23.2 in c:\\users\\mrmte\\appdata\\local\\programs\\python\\python310\\lib\\site-packages (from langchain-core<0.4.0,>=0.3.27->langchain-cohere) (24.2)\n",
      "Requirement already satisfied: annotated-types>=0.6.0 in c:\\users\\mrmte\\appdata\\local\\programs\\python\\python310\\lib\\site-packages (from pydantic<3,>=2->langchain-cohere) (0.7.0)\n",
      "Requirement already satisfied: aiohappyeyeballs>=2.3.0 in c:\\users\\mrmte\\appdata\\local\\programs\\python\\python310\\lib\\site-packages (from aiohttp<4.0.0,>=3.8.3->langchain-community<0.4.0,>=0.3.0->langchain-cohere) (2.4.3)\n",
      "Requirement already satisfied: aiosignal>=1.1.2 in c:\\users\\mrmte\\appdata\\local\\programs\\python\\python310\\lib\\site-packages (from aiohttp<4.0.0,>=3.8.3->langchain-community<0.4.0,>=0.3.0->langchain-cohere) (1.3.1)\n",
      "Requirement already satisfied: attrs>=17.3.0 in c:\\users\\mrmte\\appdata\\local\\programs\\python\\python310\\lib\\site-packages (from aiohttp<4.0.0,>=3.8.3->langchain-community<0.4.0,>=0.3.0->langchain-cohere) (23.2.0)\n",
      "Requirement already satisfied: frozenlist>=1.1.1 in c:\\users\\mrmte\\appdata\\local\\programs\\python\\python310\\lib\\site-packages (from aiohttp<4.0.0,>=3.8.3->langchain-community<0.4.0,>=0.3.0->langchain-cohere) (1.4.1)\n",
      "Requirement already satisfied: multidict<7.0,>=4.5 in c:\\users\\mrmte\\appdata\\local\\programs\\python\\python310\\lib\\site-packages (from aiohttp<4.0.0,>=3.8.3->langchain-community<0.4.0,>=0.3.0->langchain-cohere) (6.1.0)\n",
      "Requirement already satisfied: yarl<2.0,>=1.12.0 in c:\\users\\mrmte\\appdata\\local\\programs\\python\\python310\\lib\\site-packages (from aiohttp<4.0.0,>=3.8.3->langchain-community<0.4.0,>=0.3.0->langchain-cohere) (1.15.3)\n",
      "Requirement already satisfied: async-timeout<5.0,>=4.0 in c:\\users\\mrmte\\appdata\\local\\programs\\python\\python310\\lib\\site-packages (from aiohttp<4.0.0,>=3.8.3->langchain-community<0.4.0,>=0.3.0->langchain-cohere) (4.0.3)\n",
      "Requirement already satisfied: marshmallow<4.0.0,>=3.18.0 in c:\\users\\mrmte\\appdata\\local\\programs\\python\\python310\\lib\\site-packages (from dataclasses-json<0.7,>=0.5.7->langchain-community<0.4.0,>=0.3.0->langchain-cohere) (3.22.0)\n",
      "Requirement already satisfied: typing-inspect<1,>=0.4.0 in c:\\users\\mrmte\\appdata\\local\\programs\\python\\python310\\lib\\site-packages (from dataclasses-json<0.7,>=0.5.7->langchain-community<0.4.0,>=0.3.0->langchain-cohere) (0.9.0)\n",
      "Requirement already satisfied: anyio in c:\\users\\mrmte\\appdata\\local\\programs\\python\\python310\\lib\\site-packages (from httpx>=0.21.2->cohere<6.0,>=5.12.0->langchain-cohere) (4.6.0)\n",
      "Requirement already satisfied: certifi in c:\\users\\mrmte\\appdata\\local\\programs\\python\\python310\\lib\\site-packages (from httpx>=0.21.2->cohere<6.0,>=5.12.0->langchain-cohere) (2024.8.30)\n",
      "Requirement already satisfied: httpcore==1.* in c:\\users\\mrmte\\appdata\\local\\programs\\python\\python310\\lib\\site-packages (from httpx>=0.21.2->cohere<6.0,>=5.12.0->langchain-cohere) (1.0.6)\n",
      "Requirement already satisfied: idna in c:\\users\\mrmte\\appdata\\local\\programs\\python\\python310\\lib\\site-packages (from httpx>=0.21.2->cohere<6.0,>=5.12.0->langchain-cohere) (3.10)\n",
      "Requirement already satisfied: sniffio in c:\\users\\mrmte\\appdata\\local\\programs\\python\\python310\\lib\\site-packages (from httpx>=0.21.2->cohere<6.0,>=5.12.0->langchain-cohere) (1.3.1)\n",
      "Requirement already satisfied: h11<0.15,>=0.13 in c:\\users\\mrmte\\appdata\\local\\programs\\python\\python310\\lib\\site-packages (from httpcore==1.*->httpx>=0.21.2->cohere<6.0,>=5.12.0->langchain-cohere) (0.14.0)\n",
      "Requirement already satisfied: jsonpointer>=1.9 in c:\\users\\mrmte\\appdata\\local\\programs\\python\\python310\\lib\\site-packages (from jsonpatch<2.0,>=1.33->langchain-core<0.4.0,>=0.3.27->langchain-cohere) (3.0.0)\n",
      "Requirement already satisfied: langchain-text-splitters<0.4.0,>=0.3.0 in c:\\users\\mrmte\\appdata\\local\\programs\\python\\python310\\lib\\site-packages (from langchain<0.4.0,>=0.3.3->langchain-community<0.4.0,>=0.3.0->langchain-cohere) (0.3.0)\n",
      "Requirement already satisfied: orjson<4.0.0,>=3.9.14 in c:\\users\\mrmte\\appdata\\local\\programs\\python\\python310\\lib\\site-packages (from langsmith<0.2.0,>=0.1.125->langchain-community<0.4.0,>=0.3.0->langchain-cohere) (3.10.7)\n",
      "Requirement already satisfied: requests-toolbelt<2.0.0,>=1.0.0 in c:\\users\\mrmte\\appdata\\local\\programs\\python\\python310\\lib\\site-packages (from langsmith<0.2.0,>=0.1.125->langchain-community<0.4.0,>=0.3.0->langchain-cohere) (1.0.0)\n",
      "Requirement already satisfied: python-dotenv>=0.21.0 in c:\\users\\mrmte\\appdata\\local\\programs\\python\\python310\\lib\\site-packages (from pydantic-settings<3.0.0,>=2.4.0->langchain-community<0.4.0,>=0.3.0->langchain-cohere) (1.0.1)\n",
      "Requirement already satisfied: charset-normalizer<4,>=2 in c:\\users\\mrmte\\appdata\\local\\programs\\python\\python310\\lib\\site-packages (from requests<3.0.0,>=2.0.0->cohere<6.0,>=5.12.0->langchain-cohere) (3.3.2)\n",
      "Requirement already satisfied: urllib3<3,>=1.21.1 in c:\\users\\mrmte\\appdata\\local\\programs\\python\\python310\\lib\\site-packages (from requests<3.0.0,>=2.0.0->cohere<6.0,>=5.12.0->langchain-cohere) (2.2.3)\n",
      "Requirement already satisfied: greenlet!=0.4.17 in c:\\users\\mrmte\\appdata\\local\\programs\\python\\python310\\lib\\site-packages (from SQLAlchemy<3,>=1.4->langchain-community<0.4.0,>=0.3.0->langchain-cohere) (3.1.1)\n",
      "Requirement already satisfied: huggingface-hub<1.0,>=0.16.4 in c:\\users\\mrmte\\appdata\\local\\programs\\python\\python310\\lib\\site-packages (from tokenizers<1,>=0.15->cohere<6.0,>=5.12.0->langchain-cohere) (0.25.2)\n",
      "Requirement already satisfied: filelock in c:\\users\\mrmte\\appdata\\local\\programs\\python\\python310\\lib\\site-packages (from huggingface-hub<1.0,>=0.16.4->tokenizers<1,>=0.15->cohere<6.0,>=5.12.0->langchain-cohere) (3.16.1)\n",
      "Requirement already satisfied: fsspec>=2023.5.0 in c:\\users\\mrmte\\appdata\\local\\programs\\python\\python310\\lib\\site-packages (from huggingface-hub<1.0,>=0.16.4->tokenizers<1,>=0.15->cohere<6.0,>=5.12.0->langchain-cohere) (2024.9.0)\n",
      "Requirement already satisfied: tqdm>=4.42.1 in c:\\users\\mrmte\\appdata\\local\\programs\\python\\python310\\lib\\site-packages (from huggingface-hub<1.0,>=0.16.4->tokenizers<1,>=0.15->cohere<6.0,>=5.12.0->langchain-cohere) (4.66.5)\n",
      "Requirement already satisfied: mypy-extensions>=0.3.0 in c:\\users\\mrmte\\appdata\\local\\programs\\python\\python310\\lib\\site-packages (from typing-inspect<1,>=0.4.0->dataclasses-json<0.7,>=0.5.7->langchain-community<0.4.0,>=0.3.0->langchain-cohere) (1.0.0)\n",
      "Requirement already satisfied: propcache>=0.2.0 in c:\\users\\mrmte\\appdata\\local\\programs\\python\\python310\\lib\\site-packages (from yarl<2.0,>=1.12.0->aiohttp<4.0.0,>=3.8.3->langchain-community<0.4.0,>=0.3.0->langchain-cohere) (0.2.0)\n",
      "Requirement already satisfied: exceptiongroup>=1.0.2 in c:\\users\\mrmte\\appdata\\roaming\\python\\python310\\site-packages (from anyio->httpx>=0.21.2->cohere<6.0,>=5.12.0->langchain-cohere) (1.2.2)\n",
      "Requirement already satisfied: colorama in c:\\users\\mrmte\\appdata\\roaming\\python\\python310\\site-packages (from tqdm>=4.42.1->huggingface-hub<1.0,>=0.16.4->tokenizers<1,>=0.15->cohere<6.0,>=5.12.0->langchain-cohere) (0.4.6)\n"
     ]
    },
    {
     "name": "stderr",
     "output_type": "stream",
     "text": [
      "WARNING: Ignoring invalid distribution -atplotlib (c:\\users\\mrmte\\appdata\\local\\programs\\python\\python310\\lib\\site-packages)\n",
      "WARNING: Ignoring invalid distribution -atplotlib (c:\\users\\mrmte\\appdata\\local\\programs\\python\\python310\\lib\\site-packages)\n",
      "WARNING: Ignoring invalid distribution -atplotlib (c:\\users\\mrmte\\appdata\\local\\programs\\python\\python310\\lib\\site-packages)\n",
      "\n",
      "[notice] A new release of pip is available: 24.3.1 -> 25.0.1\n",
      "[notice] To update, run: python.exe -m pip install --upgrade pip\n"
     ]
    }
   ],
   "source": [
    "! c:\\Users\\mrmte\\AppData\\Local\\Programs\\Python\\Python310\\python.exe -m pip install langchain-cohere\n"
   ]
  },
  {
   "cell_type": "code",
   "execution_count": 32,
   "id": "bef4876c",
   "metadata": {},
   "outputs": [],
   "source": [
    "import fitz  # PyMuPDF\n",
    "from langchain.text_splitter import RecursiveCharacterTextSplitter\n",
    "from langchain_core.documents import Document\n",
    "from langchain_cohere import CohereEmbeddings\n",
    "from langchain_community.vectorstores import Pinecone as Pinecone_Langchain\n",
    "import os\n",
    "import getpass\n",
    "from pinecone import Pinecone\n",
    "import time"
   ]
  },
  {
   "cell_type": "code",
   "execution_count": 33,
   "id": "536ccb89",
   "metadata": {},
   "outputs": [
    {
     "name": "stdout",
     "output_type": "stream",
     "text": [
      "Number of chunks: 156\n",
      "Uploading batch 1 / 4\n",
      "Uploading batch 2 / 4\n",
      "Uploading batch 3 / 4\n",
      "Uploading batch 4 / 4\n",
      "✅ All documents uploaded successfully to Pinecone.\n"
     ]
    }
   ],
   "source": [
    "\n",
    "\n",
    "# === Load and extract text from PDF ===\n",
    "doc = fitz.open(\"C:/Users/mrmte/Documents/2CS_IASD/S2/ai-mental-health-therapist-app/backend/voiceAgent/app/data/cbt guide en.pdf\")\n",
    "\n",
    "text = \"\"\n",
    "for page in doc:\n",
    "    text += page.get_text()\n",
    "\n",
    "# === Split text into chunks ===\n",
    "text_splitter = RecursiveCharacterTextSplitter(\n",
    "    chunk_size=500,\n",
    "    chunk_overlap=50,\n",
    "    separators=[\"\\n\\n\", \"\\n\", \" \", \"\"]\n",
    ")\n",
    "chunks = text_splitter.split_text(text)\n",
    "print(f\"Number of chunks: {len(chunks)}\")\n",
    "\n",
    "# === Create LangChain Document objects ===\n",
    "documents = [\n",
    "    Document(\n",
    "        page_content=chunk,\n",
    "        metadata={\n",
    "            \"Title\": \"cbt guide en\",\n",
    "            \"Source\": \"https://www.hpft.nhs.uk/media/1655/wellbeing-team-cbt-workshop-booklet-2016.pdf\"\n",
    "        }\n",
    "    ) for chunk in chunks\n",
    "]\n",
    "\n",
    "# === Initialize Cohere embeddings (✅ with model name) ===\n",
    "embeddings = CohereEmbeddings(\n",
    "    cohere_api_key=cohere_secret_key,\n",
    "    model=\"embed-english-v3.0\",  # ✅ REQUIRED\n",
    "    user_agent=\"ai-agent\"\n",
    ")\n",
    "\n",
    "# === Upload to Pinecone in batches ===\n",
    "BATCH_SIZE = 50\n",
    "vector_store = None\n",
    "\n",
    "for i in range(0, len(documents), BATCH_SIZE):\n",
    "    batch_docs = documents[i:i + BATCH_SIZE]\n",
    "    print(f\"Uploading batch {i // BATCH_SIZE + 1} / {(len(documents) - 1) // BATCH_SIZE + 1}\")\n",
    "    \n",
    "    try:\n",
    "        if i == 0:\n",
    "            vector_store = Pinecone_Langchain.from_documents(\n",
    "                documents=batch_docs,\n",
    "                embedding=embeddings,\n",
    "                index_name=index\n",
    "            )\n",
    "        else:\n",
    "            vector_store.add_documents(batch_docs)\n",
    "    except Exception as e:\n",
    "        print(f\"⚠️ Error during batch {i // BATCH_SIZE + 1}: {str(e)}\")\n",
    "    \n",
    "    time.sleep(10)  # To avoid rate-limiting\n",
    "\n",
    "print(\"✅ All documents uploaded successfully to Pinecone.\")\n"
   ]
  },
  {
   "cell_type": "code",
   "execution_count": 35,
   "id": "47da0a38",
   "metadata": {},
   "outputs": [
    {
     "name": "stderr",
     "output_type": "stream",
     "text": [
      "C:\\Users\\mrmte\\AppData\\Local\\Temp\\ipykernel_6884\\257020286.py:2: LangChainDeprecationWarning: The method `BaseRetriever.get_relevant_documents` was deprecated in langchain-core 0.1.46 and will be removed in 1.0. Use :meth:`~invoke` instead.\n",
      "  matched_docs = retriever.get_relevant_documents('What is cbt?')\n"
     ]
    },
    {
     "name": "stdout",
     "output_type": "stream",
     "text": [
      "\n",
      "## Document 0\n",
      "\n",
      "A Pan American Health Organization /\n",
      "World Health Organization Collaborating Centre\n",
      "3973c / 10-2010 / PM087\n",
      "cognitive-behavioural therapy (cbt) is a widely\n",
      "recommended treatment for depression, anxiety and other\n",
      "emotional problems. cbt works on the assumption that the\n",
      "way you think can contribute to your emotional problems.\n",
      "In cbt, you learn to identify, question and change distorted\n",
      "and negative thinking—to see thoughts as ideas rather\n",
      "than as facts, and to “stand back” from your thoughts and\n",
      "{'Source': 'https://www.hpft.nhs.uk/media/1655/wellbeing-team-cbt-workshop-booklet-2016.pdf', 'Title': 'cbt guide en'}\n",
      "\n",
      "## Document 1\n",
      "\n",
      "shown to be effective when used in individual or group formats. \n",
      "Introducing CBT\n",
      "CBT is an intensive, short-term (six to 20 sessions), problem-oriented \n",
      "approach. It was designed to be quick, practical and goal-oriented \n",
      "and to provide people with long-term skills to keep them healthy. \n",
      "The focus of cbt is on the here-and-now—on the problems that come \n",
      "up in a person’s day-to-day life. cbt helps people to look at how they \n",
      "interpret and evaluate what is happening around them and the\n",
      "{'Source': 'https://www.hpft.nhs.uk/media/1655/wellbeing-team-cbt-workshop-booklet-2016.pdf', 'Title': 'cbt guide en'}\n",
      "\n",
      "## Document 2\n",
      "\n",
      "assigned.\n",
      "• \u0007Summary and client feedback: Wrap up of the session. \n",
      "How can I get the most out of CBT \n",
      "between sessions?\n",
      "CBT is a treatment approach that teaches you skills to become your \n",
      "own therapist over time. You learn new skills in the therapy ses-\n",
      "sions, but ultimately much of the change occurs between therapy \n",
      "sessions when practising the skills in your own environment as \n",
      "part of homework. Early in treatment, the cbt therapist will suggest \n",
      "36\n",
      "{'Source': 'https://www.hpft.nhs.uk/media/1655/wellbeing-team-cbt-workshop-booklet-2016.pdf', 'Title': 'cbt guide en'}\n",
      "\n",
      "## Document 3\n",
      "\n",
      "Why is CBT an effective therapy?\n",
      "CBT is an effective therapeutic approach because it:\n",
      "• is structured \n",
      "• is problem-focused and goal-oriented \n",
      "• teaches proven strategies and skills \n",
      "• \u0007emphasizes the importance of a good, collaborative therapeutic \n",
      "relationship between the therapist and client.\n",
      "In describing how cbt works, the focus of this guide will be on \n",
      "how it applies to treating people experiencing emotional distress. \n",
      "6\n",
      "Cognitive-behavioural therapy : An information guide\n",
      "{'Source': 'https://www.hpft.nhs.uk/media/1655/wellbeing-team-cbt-workshop-booklet-2016.pdf', 'Title': 'cbt guide en'}\n"
     ]
    }
   ],
   "source": [
    "\n",
    "retriever = vector_store.as_retriever()\n",
    "matched_docs = retriever.get_relevant_documents('What is cbt?')\n",
    "for i, d in enumerate(matched_docs):\n",
    "    print(f\"\\n## Document {i}\\n\")\n",
    "    print(d.page_content)\n",
    "    print(d.metadata)"
   ]
  },
  {
   "cell_type": "code",
   "execution_count": 36,
   "id": "498d0e6a",
   "metadata": {},
   "outputs": [
    {
     "name": "stdout",
     "output_type": "stream",
     "text": [
      "Number of chunks: 1826\n",
      "Uploading batch 1 / 37\n",
      "Uploading batch 2 / 37\n",
      "Uploading batch 3 / 37\n",
      "Uploading batch 4 / 37\n",
      "Uploading batch 5 / 37\n",
      "Uploading batch 6 / 37\n",
      "Uploading batch 7 / 37\n",
      "Uploading batch 8 / 37\n",
      "Uploading batch 9 / 37\n",
      "Uploading batch 10 / 37\n",
      "Uploading batch 11 / 37\n",
      "Uploading batch 12 / 37\n",
      "Uploading batch 13 / 37\n",
      "Uploading batch 14 / 37\n",
      "Uploading batch 15 / 37\n",
      "Uploading batch 16 / 37\n",
      "Uploading batch 17 / 37\n",
      "Uploading batch 18 / 37\n",
      "Uploading batch 19 / 37\n",
      "Uploading batch 20 / 37\n",
      "Uploading batch 21 / 37\n",
      "Uploading batch 22 / 37\n",
      "Uploading batch 23 / 37\n",
      "Uploading batch 24 / 37\n",
      "Uploading batch 25 / 37\n",
      "Uploading batch 26 / 37\n",
      "Uploading batch 27 / 37\n",
      "Uploading batch 28 / 37\n",
      "Uploading batch 29 / 37\n",
      "Uploading batch 30 / 37\n",
      "Uploading batch 31 / 37\n",
      "Uploading batch 32 / 37\n",
      "Uploading batch 33 / 37\n",
      "Uploading batch 34 / 37\n",
      "Uploading batch 35 / 37\n",
      "Uploading batch 36 / 37\n",
      "Uploading batch 37 / 37\n",
      "✅ All documents uploaded successfully to Pinecone.\n"
     ]
    }
   ],
   "source": [
    "\n",
    "\n",
    "# === Load and extract text from PDF ===\n",
    "doc = fitz.open(\"C:/Users/mrmte/Documents/2CS_IASD/S2/ai-mental-health-therapist-app/backend/voiceAgent/app/data/cognitive-behavior-therapy-basics-and-beyond-3nbsped-1462544193-9781462544196_compress.pdf\")\n",
    "\n",
    "text = \"\"\n",
    "for page in doc:\n",
    "    text += page.get_text()\n",
    "\n",
    "# === Split text into chunks ===\n",
    "text_splitter = RecursiveCharacterTextSplitter(\n",
    "    chunk_size=500,\n",
    "    chunk_overlap=50,\n",
    "    separators=[\"\\n\\n\", \"\\n\", \" \", \"\"]\n",
    ")\n",
    "chunks = text_splitter.split_text(text)\n",
    "print(f\"Number of chunks: {len(chunks)}\")\n",
    "\n",
    "# === Create LangChain Document objects ===\n",
    "documents = [\n",
    "    Document(\n",
    "        page_content=chunk,\n",
    "        metadata={\n",
    "            \"Title\": \"cognitive-behavior-therapy-basics-and-beyond\",\n",
    "            \"Source\": \"https://dokumen.pub/cognitive-behavior-therapy-basics-and-beyond-3nbsped-1462544193-9781462544196.html\"\n",
    "        }\n",
    "    ) for chunk in chunks\n",
    "]\n",
    "\n",
    "# === Initialize Cohere embeddings (✅ with model name) ===\n",
    "embeddings = CohereEmbeddings(\n",
    "    cohere_api_key=cohere_secret_key,\n",
    "    model=\"embed-english-v3.0\",  # ✅ REQUIRED\n",
    "    user_agent=\"ai-agent\"\n",
    ")\n",
    "\n",
    "# === Upload to Pinecone in batches ===\n",
    "BATCH_SIZE = 50\n",
    "vector_store = None\n",
    "\n",
    "for i in range(0, len(documents), BATCH_SIZE):\n",
    "    batch_docs = documents[i:i + BATCH_SIZE]\n",
    "    print(f\"Uploading batch {i // BATCH_SIZE + 1} / {(len(documents) - 1) // BATCH_SIZE + 1}\")\n",
    "    \n",
    "    try:\n",
    "        if i == 0:\n",
    "            vector_store = Pinecone_Langchain.from_documents(\n",
    "                documents=batch_docs,\n",
    "                embedding=embeddings,\n",
    "                index_name=index\n",
    "            )\n",
    "        else:\n",
    "            vector_store.add_documents(batch_docs)\n",
    "    except Exception as e:\n",
    "        print(f\"⚠️ Error during batch {i // BATCH_SIZE + 1}: {str(e)}\")\n",
    "    \n",
    "    time.sleep(10)  # To avoid rate-limiting\n",
    "\n",
    "print(\"✅ All documents uploaded successfully to Pinecone.\")\n"
   ]
  },
  {
   "cell_type": "code",
   "execution_count": 37,
   "id": "22fd6065",
   "metadata": {},
   "outputs": [
    {
     "name": "stdout",
     "output_type": "stream",
     "text": [
      "Number of chunks: 7874\n",
      "Uploading batch 1 / 158\n",
      "Uploading batch 2 / 158\n",
      "Uploading batch 3 / 158\n",
      "Uploading batch 4 / 158\n",
      "Uploading batch 5 / 158\n",
      "Uploading batch 6 / 158\n",
      "Uploading batch 7 / 158\n",
      "Uploading batch 8 / 158\n",
      "Uploading batch 9 / 158\n",
      "Uploading batch 10 / 158\n",
      "Uploading batch 11 / 158\n",
      "Uploading batch 12 / 158\n",
      "Uploading batch 13 / 158\n",
      "Uploading batch 14 / 158\n",
      "Uploading batch 15 / 158\n",
      "Uploading batch 16 / 158\n",
      "Uploading batch 17 / 158\n",
      "Uploading batch 18 / 158\n",
      "Uploading batch 19 / 158\n",
      "Uploading batch 20 / 158\n",
      "Uploading batch 21 / 158\n",
      "Uploading batch 22 / 158\n",
      "Uploading batch 23 / 158\n",
      "Uploading batch 24 / 158\n",
      "Uploading batch 25 / 158\n",
      "Uploading batch 26 / 158\n",
      "Uploading batch 27 / 158\n",
      "Uploading batch 28 / 158\n",
      "Uploading batch 29 / 158\n",
      "Uploading batch 30 / 158\n",
      "Uploading batch 31 / 158\n",
      "Uploading batch 32 / 158\n",
      "Uploading batch 33 / 158\n",
      "Uploading batch 34 / 158\n",
      "Uploading batch 35 / 158\n",
      "Uploading batch 36 / 158\n",
      "Uploading batch 37 / 158\n",
      "Uploading batch 38 / 158\n",
      "Uploading batch 39 / 158\n",
      "Uploading batch 40 / 158\n",
      "Uploading batch 41 / 158\n",
      "Uploading batch 42 / 158\n",
      "Uploading batch 43 / 158\n",
      "Uploading batch 44 / 158\n",
      "Uploading batch 45 / 158\n",
      "Uploading batch 46 / 158\n",
      "Uploading batch 47 / 158\n",
      "Uploading batch 48 / 158\n",
      "Uploading batch 49 / 158\n",
      "Uploading batch 50 / 158\n",
      "Uploading batch 51 / 158\n",
      "Uploading batch 52 / 158\n",
      "Uploading batch 53 / 158\n",
      "Uploading batch 54 / 158\n",
      "Uploading batch 55 / 158\n",
      "Uploading batch 56 / 158\n",
      "Uploading batch 57 / 158\n",
      "Uploading batch 58 / 158\n",
      "Uploading batch 59 / 158\n",
      "Uploading batch 60 / 158\n",
      "Uploading batch 61 / 158\n",
      "Uploading batch 62 / 158\n",
      "Uploading batch 63 / 158\n",
      "Uploading batch 64 / 158\n",
      "Uploading batch 65 / 158\n",
      "Uploading batch 66 / 158\n",
      "Uploading batch 67 / 158\n",
      "Uploading batch 68 / 158\n",
      "Uploading batch 69 / 158\n",
      "Uploading batch 70 / 158\n",
      "Uploading batch 71 / 158\n",
      "Uploading batch 72 / 158\n",
      "Uploading batch 73 / 158\n",
      "Uploading batch 74 / 158\n",
      "Uploading batch 75 / 158\n",
      "Uploading batch 76 / 158\n",
      "Uploading batch 77 / 158\n",
      "Uploading batch 78 / 158\n",
      "Uploading batch 79 / 158\n",
      "Uploading batch 80 / 158\n",
      "Uploading batch 81 / 158\n",
      "Uploading batch 82 / 158\n",
      "Uploading batch 83 / 158\n",
      "Uploading batch 84 / 158\n",
      "Uploading batch 85 / 158\n",
      "Uploading batch 86 / 158\n",
      "Uploading batch 87 / 158\n",
      "Uploading batch 88 / 158\n",
      "Uploading batch 89 / 158\n",
      "Uploading batch 90 / 158\n",
      "Uploading batch 91 / 158\n",
      "Uploading batch 92 / 158\n",
      "Uploading batch 93 / 158\n",
      "Uploading batch 94 / 158\n",
      "Uploading batch 95 / 158\n",
      "Uploading batch 96 / 158\n",
      "Uploading batch 97 / 158\n",
      "Uploading batch 98 / 158\n",
      "Uploading batch 99 / 158\n",
      "Uploading batch 100 / 158\n",
      "Uploading batch 101 / 158\n",
      "Uploading batch 102 / 158\n",
      "Uploading batch 103 / 158\n",
      "Uploading batch 104 / 158\n",
      "Uploading batch 105 / 158\n",
      "Uploading batch 106 / 158\n",
      "Uploading batch 107 / 158\n",
      "Uploading batch 108 / 158\n",
      "Uploading batch 109 / 158\n",
      "Uploading batch 110 / 158\n",
      "Uploading batch 111 / 158\n",
      "Uploading batch 112 / 158\n",
      "Uploading batch 113 / 158\n",
      "Uploading batch 114 / 158\n",
      "Uploading batch 115 / 158\n",
      "Uploading batch 116 / 158\n",
      "Uploading batch 117 / 158\n",
      "Uploading batch 118 / 158\n",
      "Uploading batch 119 / 158\n",
      "Uploading batch 120 / 158\n",
      "Uploading batch 121 / 158\n",
      "Uploading batch 122 / 158\n",
      "Uploading batch 123 / 158\n",
      "Uploading batch 124 / 158\n",
      "Uploading batch 125 / 158\n",
      "Uploading batch 126 / 158\n",
      "Uploading batch 127 / 158\n",
      "Uploading batch 128 / 158\n",
      "Uploading batch 129 / 158\n",
      "Uploading batch 130 / 158\n",
      "Uploading batch 131 / 158\n",
      "Uploading batch 132 / 158\n",
      "Uploading batch 133 / 158\n",
      "Uploading batch 134 / 158\n",
      "Uploading batch 135 / 158\n",
      "Uploading batch 136 / 158\n",
      "Uploading batch 137 / 158\n",
      "Uploading batch 138 / 158\n",
      "Uploading batch 139 / 158\n",
      "Uploading batch 140 / 158\n",
      "Uploading batch 141 / 158\n",
      "Uploading batch 142 / 158\n",
      "Uploading batch 143 / 158\n",
      "Uploading batch 144 / 158\n",
      "Uploading batch 145 / 158\n",
      "Uploading batch 146 / 158\n",
      "Uploading batch 147 / 158\n",
      "Uploading batch 148 / 158\n",
      "Uploading batch 149 / 158\n",
      "Uploading batch 150 / 158\n",
      "Uploading batch 151 / 158\n",
      "Uploading batch 152 / 158\n",
      "Uploading batch 153 / 158\n",
      "Uploading batch 154 / 158\n",
      "Uploading batch 155 / 158\n",
      "Uploading batch 156 / 158\n",
      "Uploading batch 157 / 158\n",
      "Uploading batch 158 / 158\n",
      "✅ All documents uploaded successfully to Pinecone.\n"
     ]
    }
   ],
   "source": [
    "\n",
    "\n",
    "# === Load and extract text from PDF ===\n",
    "doc = fitz.open(\"C:/Users/mrmte/Documents/2CS_IASD/S2/ai-mental-health-therapist-app/backend/voiceAgent/app/data/DSM 5 TR.pdf\")\n",
    "\n",
    "text = \"\"\n",
    "for page in doc:\n",
    "    text += page.get_text()\n",
    "\n",
    "# === Split text into chunks ===\n",
    "text_splitter = RecursiveCharacterTextSplitter(\n",
    "    chunk_size=500,\n",
    "    chunk_overlap=50,\n",
    "    separators=[\"\\n\\n\", \"\\n\", \" \", \"\"]\n",
    ")\n",
    "chunks = text_splitter.split_text(text)\n",
    "print(f\"Number of chunks: {len(chunks)}\")\n",
    "\n",
    "# === Create LangChain Document objects ===\n",
    "documents = [\n",
    "    Document(\n",
    "        page_content=chunk,\n",
    "        metadata={\n",
    "            \"Title\": \"DSM 5\",\n",
    "            \"Source\": \"https://www.mredscircleoftrust.com/storage/app/media/DSM%205%20TR.pdf\"\n",
    "        }\n",
    "    ) for chunk in chunks\n",
    "]\n",
    "\n",
    "# === Initialize Cohere embeddings (✅ with model name) ===\n",
    "embeddings = CohereEmbeddings(\n",
    "    cohere_api_key=cohere_secret_key,\n",
    "    model=\"embed-english-v3.0\",  # ✅ REQUIRED\n",
    "    user_agent=\"ai-agent\"\n",
    ")\n",
    "\n",
    "# === Upload to Pinecone in batches ===\n",
    "BATCH_SIZE = 50\n",
    "vector_store = None\n",
    "\n",
    "for i in range(0, len(documents), BATCH_SIZE):\n",
    "    batch_docs = documents[i:i + BATCH_SIZE]\n",
    "    print(f\"Uploading batch {i // BATCH_SIZE + 1} / {(len(documents) - 1) // BATCH_SIZE + 1}\")\n",
    "    \n",
    "    try:\n",
    "        if i == 0:\n",
    "            vector_store = Pinecone_Langchain.from_documents(\n",
    "                documents=batch_docs,\n",
    "                embedding=embeddings,\n",
    "                index_name=index\n",
    "            )\n",
    "        else:\n",
    "            vector_store.add_documents(batch_docs)\n",
    "    except Exception as e:\n",
    "        print(f\"⚠️ Error during batch {i // BATCH_SIZE + 1}: {str(e)}\")\n",
    "    \n",
    "    time.sleep(10)  # To avoid rate-limiting\n",
    "\n",
    "print(\"✅ All documents uploaded successfully to Pinecone.\")\n"
   ]
  },
  {
   "cell_type": "code",
   "execution_count": 38,
   "id": "b7178fef",
   "metadata": {},
   "outputs": [
    {
     "name": "stdout",
     "output_type": "stream",
     "text": [
      "Number of chunks: 1392\n",
      "Uploading batch 1 / 28\n",
      "Uploading batch 2 / 28\n",
      "Uploading batch 3 / 28\n",
      "Uploading batch 4 / 28\n",
      "Uploading batch 5 / 28\n",
      "Uploading batch 6 / 28\n",
      "Uploading batch 7 / 28\n",
      "Uploading batch 8 / 28\n",
      "Uploading batch 9 / 28\n",
      "Uploading batch 10 / 28\n",
      "Uploading batch 11 / 28\n",
      "Uploading batch 12 / 28\n",
      "Uploading batch 13 / 28\n",
      "Uploading batch 14 / 28\n",
      "Uploading batch 15 / 28\n",
      "Uploading batch 16 / 28\n",
      "Uploading batch 17 / 28\n",
      "Uploading batch 18 / 28\n",
      "Uploading batch 19 / 28\n",
      "Uploading batch 20 / 28\n",
      "Uploading batch 21 / 28\n",
      "Uploading batch 22 / 28\n",
      "Uploading batch 23 / 28\n",
      "Uploading batch 24 / 28\n",
      "Uploading batch 25 / 28\n",
      "Uploading batch 26 / 28\n",
      "Uploading batch 27 / 28\n",
      "Uploading batch 28 / 28\n",
      "✅ All documents uploaded successfully to Pinecone.\n"
     ]
    }
   ],
   "source": [
    "\n",
    "\n",
    "# === Load and extract text from PDF ===\n",
    "doc = fitz.open(\"C:/Users/mrmte/Documents/2CS_IASD/S2/ai-mental-health-therapist-app/backend/voiceAgent/app/data/icd-_11_2018.pdf\")\n",
    "\n",
    "text = \"\"\n",
    "for page in doc:\n",
    "    text += page.get_text()\n",
    "\n",
    "# === Split text into chunks ===\n",
    "text_splitter = RecursiveCharacterTextSplitter(\n",
    "    chunk_size=500,\n",
    "    chunk_overlap=50,\n",
    "    separators=[\"\\n\\n\", \"\\n\", \" \", \"\"]\n",
    ")\n",
    "chunks = text_splitter.split_text(text)\n",
    "print(f\"Number of chunks: {len(chunks)}\")\n",
    "\n",
    "# === Create LangChain Document objects ===\n",
    "documents = [\n",
    "    Document(\n",
    "        page_content=chunk,\n",
    "        metadata={\n",
    "            \"Title\": \"icd 11\",\n",
    "            \"Source\": \"https://faculty.ksu.edu.sa/sites/default/files/icd-_11_2018.pdf\"\n",
    "        }\n",
    "    ) for chunk in chunks\n",
    "]\n",
    "\n",
    "# === Initialize Cohere embeddings (✅ with model name) ===\n",
    "embeddings = CohereEmbeddings(\n",
    "    cohere_api_key=cohere_secret_key,\n",
    "    model=\"embed-english-v3.0\",  # ✅ REQUIRED\n",
    "    user_agent=\"ai-agent\"\n",
    ")\n",
    "\n",
    "# === Upload to Pinecone in batches ===\n",
    "BATCH_SIZE = 50\n",
    "vector_store = None\n",
    "\n",
    "for i in range(0, len(documents), BATCH_SIZE):\n",
    "    batch_docs = documents[i:i + BATCH_SIZE]\n",
    "    print(f\"Uploading batch {i // BATCH_SIZE + 1} / {(len(documents) - 1) // BATCH_SIZE + 1}\")\n",
    "    \n",
    "    try:\n",
    "        if i == 0:\n",
    "            vector_store = Pinecone_Langchain.from_documents(\n",
    "                documents=batch_docs,\n",
    "                embedding=embeddings,\n",
    "                index_name=index\n",
    "            )\n",
    "        else:\n",
    "            vector_store.add_documents(batch_docs)\n",
    "    except Exception as e:\n",
    "        print(f\"⚠️ Error during batch {i // BATCH_SIZE + 1}: {str(e)}\")\n",
    "    \n",
    "    time.sleep(10)  # To avoid rate-limiting\n",
    "\n",
    "print(\"✅ All documents uploaded successfully to Pinecone.\")\n"
   ]
  },
  {
   "cell_type": "code",
   "execution_count": 39,
   "id": "07031b36",
   "metadata": {},
   "outputs": [
    {
     "name": "stdout",
     "output_type": "stream",
     "text": [
      "Number of chunks: 1392\n",
      "Uploading batch 1 / 28\n",
      "Uploading batch 2 / 28\n",
      "Uploading batch 3 / 28\n",
      "Uploading batch 4 / 28\n",
      "Uploading batch 5 / 28\n",
      "Uploading batch 6 / 28\n",
      "Uploading batch 7 / 28\n",
      "Uploading batch 8 / 28\n",
      "Uploading batch 9 / 28\n",
      "Uploading batch 10 / 28\n",
      "Uploading batch 11 / 28\n",
      "Uploading batch 12 / 28\n",
      "Uploading batch 13 / 28\n",
      "Uploading batch 14 / 28\n",
      "Uploading batch 15 / 28\n",
      "Uploading batch 16 / 28\n",
      "Uploading batch 17 / 28\n",
      "Uploading batch 18 / 28\n",
      "Uploading batch 19 / 28\n",
      "Uploading batch 20 / 28\n",
      "Uploading batch 21 / 28\n",
      "Uploading batch 22 / 28\n",
      "Uploading batch 23 / 28\n",
      "Uploading batch 24 / 28\n",
      "Uploading batch 25 / 28\n",
      "Uploading batch 26 / 28\n",
      "Uploading batch 27 / 28\n",
      "Uploading batch 28 / 28\n",
      "✅ All documents uploaded successfully to Pinecone.\n"
     ]
    }
   ],
   "source": [
    "\n",
    "\n",
    "# === Load and extract text from PDF ===\n",
    "doc = fitz.open(\"C:/Users/mrmte/Documents/2CS_IASD/S2/ai-mental-health-therapist-app/backend/voiceAgent/app/data/icd-_11_2018.pdf\")\n",
    "\n",
    "text = \"\"\n",
    "for page in doc:\n",
    "    text += page.get_text()\n",
    "\n",
    "# === Split text into chunks ===\n",
    "text_splitter = RecursiveCharacterTextSplitter(\n",
    "    chunk_size=500,\n",
    "    chunk_overlap=50,\n",
    "    separators=[\"\\n\\n\", \"\\n\", \" \", \"\"]\n",
    ")\n",
    "chunks = text_splitter.split_text(text)\n",
    "print(f\"Number of chunks: {len(chunks)}\")\n",
    "\n",
    "# === Create LangChain Document objects ===\n",
    "documents = [\n",
    "    Document(\n",
    "        page_content=chunk,\n",
    "        metadata={\n",
    "            \"Title\": \"icd 11\",\n",
    "            \"Source\": \"https://faculty.ksu.edu.sa/sites/default/files/icd-_11_2018.pdf\"\n",
    "        }\n",
    "    ) for chunk in chunks\n",
    "]\n",
    "\n",
    "# === Initialize Cohere embeddings (✅ with model name) ===\n",
    "embeddings = CohereEmbeddings(\n",
    "    cohere_api_key=cohere_secret_key,\n",
    "    model=\"embed-english-v3.0\",  # ✅ REQUIRED\n",
    "    user_agent=\"ai-agent\"\n",
    ")\n",
    "\n",
    "# === Upload to Pinecone in batches ===\n",
    "BATCH_SIZE = 50\n",
    "vector_store = None\n",
    "\n",
    "for i in range(0, len(documents), BATCH_SIZE):\n",
    "    batch_docs = documents[i:i + BATCH_SIZE]\n",
    "    print(f\"Uploading batch {i // BATCH_SIZE + 1} / {(len(documents) - 1) // BATCH_SIZE + 1}\")\n",
    "    \n",
    "    try:\n",
    "        if i == 0:\n",
    "            vector_store = Pinecone_Langchain.from_documents(\n",
    "                documents=batch_docs,\n",
    "                embedding=embeddings,\n",
    "                index_name=index\n",
    "            )\n",
    "        else:\n",
    "            vector_store.add_documents(batch_docs)\n",
    "    except Exception as e:\n",
    "        print(f\"⚠️ Error during batch {i // BATCH_SIZE + 1}: {str(e)}\")\n",
    "    \n",
    "    time.sleep(10)  # To avoid rate-limiting\n",
    "\n",
    "print(\"✅ All documents uploaded successfully to Pinecone.\")\n"
   ]
  },
  {
   "cell_type": "code",
   "execution_count": 40,
   "id": "2769b07d",
   "metadata": {},
   "outputs": [
    {
     "name": "stdout",
     "output_type": "stream",
     "text": [
      "Number of chunks: 673\n",
      "Uploading batch 1 / 14\n",
      "Uploading batch 2 / 14\n",
      "Uploading batch 3 / 14\n",
      "Uploading batch 4 / 14\n",
      "Uploading batch 5 / 14\n",
      "Uploading batch 6 / 14\n",
      "Uploading batch 7 / 14\n",
      "Uploading batch 8 / 14\n",
      "Uploading batch 9 / 14\n",
      "Uploading batch 10 / 14\n",
      "Uploading batch 11 / 14\n",
      "Uploading batch 12 / 14\n",
      "Uploading batch 13 / 14\n",
      "Uploading batch 14 / 14\n",
      "✅ All documents uploaded successfully to Pinecone.\n"
     ]
    }
   ],
   "source": [
    "\n",
    "\n",
    "# === Load and extract text from PDF ===\n",
    "doc = fitz.open(\"C:/Users/mrmte/Documents/2CS_IASD/S2/ai-mental-health-therapist-app/backend/voiceAgent/app/data/therapists_guide_to_brief_cbtmanual.pdf\")\n",
    "\n",
    "text = \"\"\n",
    "for page in doc:\n",
    "    text += page.get_text()\n",
    "\n",
    "# === Split text into chunks ===\n",
    "text_splitter = RecursiveCharacterTextSplitter(\n",
    "    chunk_size=500,\n",
    "    chunk_overlap=50,\n",
    "    separators=[\"\\n\\n\", \"\\n\", \" \", \"\"]\n",
    ")\n",
    "chunks = text_splitter.split_text(text)\n",
    "print(f\"Number of chunks: {len(chunks)}\")\n",
    "\n",
    "# === Create LangChain Document objects ===\n",
    "documents = [\n",
    "    Document(\n",
    "        page_content=chunk,\n",
    "        metadata={\n",
    "            \"Title\": \"icd 11\",\n",
    "            \"Source\": \"https://www.mirecc.va.gov/visn16/docs/therapists_guide_to_brief_cbtmanual.pdf\"\n",
    "        }\n",
    "    ) for chunk in chunks\n",
    "]\n",
    "\n",
    "# === Initialize Cohere embeddings (✅ with model name) ===\n",
    "embeddings = CohereEmbeddings(\n",
    "    cohere_api_key=cohere_secret_key,\n",
    "    model=\"embed-english-v3.0\",  # ✅ REQUIRED\n",
    "    user_agent=\"ai-agent\"\n",
    ")\n",
    "\n",
    "# === Upload to Pinecone in batches ===\n",
    "BATCH_SIZE = 50\n",
    "vector_store = None\n",
    "\n",
    "for i in range(0, len(documents), BATCH_SIZE):\n",
    "    batch_docs = documents[i:i + BATCH_SIZE]\n",
    "    print(f\"Uploading batch {i // BATCH_SIZE + 1} / {(len(documents) - 1) // BATCH_SIZE + 1}\")\n",
    "    \n",
    "    try:\n",
    "        if i == 0:\n",
    "            vector_store = Pinecone_Langchain.from_documents(\n",
    "                documents=batch_docs,\n",
    "                embedding=embeddings,\n",
    "                index_name=index\n",
    "            )\n",
    "        else:\n",
    "            vector_store.add_documents(batch_docs)\n",
    "    except Exception as e:\n",
    "        print(f\"⚠️ Error during batch {i // BATCH_SIZE + 1}: {str(e)}\")\n",
    "    \n",
    "    time.sleep(10)  # To avoid rate-limiting\n",
    "\n",
    "print(\"✅ All documents uploaded successfully to Pinecone.\")\n"
   ]
  },
  {
   "cell_type": "code",
   "execution_count": 41,
   "id": "0abead58",
   "metadata": {},
   "outputs": [
    {
     "name": "stdout",
     "output_type": "stream",
     "text": [
      "Number of chunks: 193\n",
      "Uploading batch 1 / 4\n",
      "Uploading batch 2 / 4\n",
      "Uploading batch 3 / 4\n",
      "Uploading batch 4 / 4\n",
      "✅ All documents uploaded successfully to Pinecone.\n"
     ]
    }
   ],
   "source": [
    "\n",
    "\n",
    "# === Load and extract text from PDF ===\n",
    "doc = fitz.open(\"C:/Users/mrmte/Documents/2CS_IASD/S2/ai-mental-health-therapist-app/backend/voiceAgent/app/data/wellbeing-team-cbt-workshop-booklet-2016.pdf\")\n",
    "\n",
    "text = \"\"\n",
    "for page in doc:\n",
    "    text += page.get_text()\n",
    "\n",
    "# === Split text into chunks ===\n",
    "text_splitter = RecursiveCharacterTextSplitter(\n",
    "    chunk_size=500,\n",
    "    chunk_overlap=50,\n",
    "    separators=[\"\\n\\n\", \"\\n\", \" \", \"\"]\n",
    ")\n",
    "chunks = text_splitter.split_text(text)\n",
    "print(f\"Number of chunks: {len(chunks)}\")\n",
    "\n",
    "# === Create LangChain Document objects ===\n",
    "documents = [\n",
    "    Document(\n",
    "        page_content=chunk,\n",
    "        metadata={\n",
    "            \"Title\": \"wellbeing-team-cbt-workshop-booklet-2016\",\n",
    "            \"Source\": \"https://www.hpft.nhs.uk/media/1655/wellbeing-team-cbt-workshop-booklet-2016.pdf\"\n",
    "        }\n",
    "    ) for chunk in chunks\n",
    "]\n",
    "\n",
    "# === Initialize Cohere embeddings (✅ with model name) ===\n",
    "embeddings = CohereEmbeddings(\n",
    "    cohere_api_key=cohere_secret_key,\n",
    "    model=\"embed-english-v3.0\",  # ✅ REQUIRED\n",
    "    user_agent=\"ai-agent\"\n",
    ")\n",
    "\n",
    "# === Upload to Pinecone in batches ===\n",
    "BATCH_SIZE = 50\n",
    "vector_store = None\n",
    "\n",
    "for i in range(0, len(documents), BATCH_SIZE):\n",
    "    batch_docs = documents[i:i + BATCH_SIZE]\n",
    "    print(f\"Uploading batch {i // BATCH_SIZE + 1} / {(len(documents) - 1) // BATCH_SIZE + 1}\")\n",
    "    \n",
    "    try:\n",
    "        if i == 0:\n",
    "            vector_store = Pinecone_Langchain.from_documents(\n",
    "                documents=batch_docs,\n",
    "                embedding=embeddings,\n",
    "                index_name=index\n",
    "            )\n",
    "        else:\n",
    "            vector_store.add_documents(batch_docs)\n",
    "    except Exception as e:\n",
    "        print(f\"⚠️ Error during batch {i // BATCH_SIZE + 1}: {str(e)}\")\n",
    "    \n",
    "    time.sleep(10)  # To avoid rate-limiting\n",
    "\n",
    "print(\"✅ All documents uploaded successfully to Pinecone.\")\n"
   ]
  }
 ],
 "metadata": {
  "kernelspec": {
   "display_name": "Python 3",
   "language": "python",
   "name": "python3"
  },
  "language_info": {
   "codemirror_mode": {
    "name": "ipython",
    "version": 3
   },
   "file_extension": ".py",
   "mimetype": "text/x-python",
   "name": "python",
   "nbconvert_exporter": "python",
   "pygments_lexer": "ipython3",
   "version": "3.10.11"
  }
 },
 "nbformat": 4,
 "nbformat_minor": 5
}
