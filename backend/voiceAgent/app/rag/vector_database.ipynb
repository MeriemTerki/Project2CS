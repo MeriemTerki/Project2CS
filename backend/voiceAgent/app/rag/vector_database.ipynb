{
 "cells": [
  {
   "cell_type": "code",
   "execution_count": null,
   "id": "9c9b4d28",
   "metadata": {},
   "outputs": [],
   "source": [
    "\n",
    "! pip install -qU pinecone-client langchain_community cohere"
   ]
  },
  {
   "cell_type": "code",
   "execution_count": null,
   "id": "7a3088ae",
   "metadata": {},
   "outputs": [],
   "source": [
    "import pandas as pd\n",
    "\n",
    "df = pd.read_csv('../data/20200325_counsel_chat.csv', encoding='utf-8-sig')\n",
    "df.info()"
   ]
  },
  {
   "cell_type": "code",
   "execution_count": null,
   "id": "3a1b52b3",
   "metadata": {},
   "outputs": [],
   "source": [
    "\n",
    "df.head(5)"
   ]
  },
  {
   "cell_type": "code",
   "execution_count": null,
   "id": "5bfa1db2",
   "metadata": {},
   "outputs": [],
   "source": [
    "import os\n",
    "import getpass\n",
    "index_name = 'ai-agent'\n",
    "os.environ['PINECONE_API_KEY'] = pinecone_secret_key = getpass.getpass('Enter Pinecone secret key:')\n",
    "cohere_secret_key = getpass.getpass('Enter Cohere secret key:')"
   ]
  },
  {
   "cell_type": "code",
   "execution_count": null,
   "id": "0a6b67f3",
   "metadata": {},
   "outputs": [],
   "source": [
    "from pinecone import Pinecone, ServerlessSpec\n",
    "\n",
    "pc = Pinecone(api_key=pinecone_secret_key)\n",
    "if index_name not in pc.list_indexes().names():\n",
    "  pc.create_index(\n",
    "    name = index_name,\n",
    "    dimension = 4096,\n",
    "    metric = 'cosine',\n",
    "    spec=ServerlessSpec(\n",
    "      cloud=\"aws\",\n",
    "      region=\"us-west-2\"\n",
    "      )\n",
    "  )\n",
    "pc.describe_index(index_name)"
   ]
  },
  {
   "cell_type": "code",
   "execution_count": null,
   "id": "a0e732b8",
   "metadata": {},
   "outputs": [],
   "source": [
    "\n",
    "from langchain.schema import Document\n",
    "from langchain.embeddings import CohereEmbeddings\n",
    "from langchain_community.vectorstores import Pinecone as Pinecone_Langchain\n",
    "import time"
   ]
  },
  {
   "cell_type": "code",
   "execution_count": null,
   "id": "91c4124f",
   "metadata": {},
   "outputs": [],
   "source": [
    "embeddings = CohereEmbeddings(cohere_api_key= cohere_secret_key, user_agent=index_name)"
   ]
  },
  {
   "cell_type": "code",
   "execution_count": null,
   "id": "c7c3b39d",
   "metadata": {},
   "outputs": [],
   "source": [
    "# Prepare documents\n",
    "documents = []\n",
    "for index, row in df.iterrows():\n",
    "    text = (row['questionText'] if pd.notna(row['questionText']) else '') + \"\\n\" + \\\n",
    "           (row['answerText'] if pd.notna(row['answerText']) else '')\n",
    "    metadata = {\n",
    "        'question title': row.get('questionTitle', ''),\n",
    "        'question link': row.get('questionLink', ''),\n",
    "        'topic': row.get('topic', ''),\n",
    "        'therapist info': row.get('therapistInfo', ''),\n",
    "        'therapist URL': row.get('therapistURL', ''),\n",
    "        'upvotes': row.get('upvotes', 0),\n",
    "        'views': row.get('views', 0)\n",
    "    }\n",
    "    documents.append(Document(page_content=text, metadata=metadata))\n",
    "\n",
    "# Batching to avoid hitting rate limits\n",
    "BATCH_SIZE = 50  # adjust depending on your quota (Cohere free tier often allows ~100/minute)\n",
    "vector_store = None\n",
    "\n",
    "for i in range(0, len(documents), BATCH_SIZE):\n",
    "    batch_docs = documents[i:i + BATCH_SIZE]\n",
    "    \n",
    "    print(f\"Processing batch {i // BATCH_SIZE + 1} of {len(documents) // BATCH_SIZE + 1}...\")\n",
    "\n",
    "    try:\n",
    "        # Initialize or append to existing index\n",
    "        if i == 0:\n",
    "            vector_store = Pinecone_Langchain.from_documents(batch_docs, embeddings, index_name=index_name)\n",
    "        else:\n",
    "            vector_store.add_documents(batch_docs)\n",
    "    except Exception as e:\n",
    "        print(f\"Error in batch {i // BATCH_SIZE + 1}: {str(e)}\")\n",
    "    \n",
    "    # Wait to respect rate limits (you can adjust sleep time based on your plan)\n",
    "    time.sleep(10)\n",
    "\n",
    "print(\"✅ Done uploading all documents.\")"
   ]
  },
  {
   "cell_type": "code",
   "execution_count": null,
   "id": "5cdb1832",
   "metadata": {},
   "outputs": [],
   "source": [
    "\n",
    "\n",
    "# Load the uploaded dataset\n",
    "df_2 = pd.read_csv('../data/train.csv')\n",
    "\n",
    "\n",
    "# Check columns (customize this based on actual column names)\n",
    "print(\"Columns in dataset:\", df_2.columns)\n",
    "\n",
    "# Prepare documents from dataset\n",
    "documents = []\n",
    "for _, row in df_2.iterrows():\n",
    "    # Customize page content and metadata based on your actual dataset\n",
    "    page_content = \"\"\n",
    "    if pd.notna(row.get(\"question\")):\n",
    "        page_content += row[\"question\"] + \"\\n\"\n",
    "    if pd.notna(row.get(\"response\")):\n",
    "        page_content += row[\"response\"]\n",
    "\n",
    "    metadata = {\n",
    "        \"category\": row.get(\"category\", \"\"),\n",
    "        \"sub_category\": row.get(\"sub_category\", \"\"),\n",
    "        \"difficulty\": row.get(\"difficulty\", \"\"),\n",
    "        # Add more if your dataset has other fields\n",
    "    }\n",
    "\n",
    "    documents.append(Document(page_content=page_content, metadata=metadata))\n",
    "\n",
    "# Upload in batches\n",
    "BATCH_SIZE = 50\n",
    "vector_store = None\n",
    "\n",
    "for i in range(0, len(documents), BATCH_SIZE):\n",
    "    batch_docs = documents[i:i + BATCH_SIZE]\n",
    "    \n",
    "    print(f\"Uploading batch {i // BATCH_SIZE + 1} / {(len(documents) - 1) // BATCH_SIZE + 1}\")\n",
    "\n",
    "    try:\n",
    "        if i == 0:\n",
    "            vector_store = Pinecone_Langchain.from_documents(batch_docs, embeddings, index_name=index_name)\n",
    "        else:\n",
    "            vector_store.add_documents(batch_docs)\n",
    "    except Exception as e:\n",
    "        print(f\"⚠️ Error during batch {i // BATCH_SIZE + 1}: {str(e)}\")\n",
    "\n",
    "    time.sleep(10)  # avoid hitting Cohere rate limits\n",
    "\n",
    "print(\"✅ All documents uploaded to Pinecone!\")\n"
   ]
  }
 ],
 "metadata": {
  "kernelspec": {
   "display_name": "Python 3",
   "language": "python",
   "name": "python3"
  },
  "language_info": {
   "codemirror_mode": {
    "name": "ipython",
    "version": 3
   },
   "file_extension": ".py",
   "mimetype": "text/x-python",
   "name": "python",
   "nbconvert_exporter": "python",
   "pygments_lexer": "ipython3",
   "version": "3.10.11"
  }
 },
 "nbformat": 4,
 "nbformat_minor": 5
}
